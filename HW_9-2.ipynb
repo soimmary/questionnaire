{
 "cells": [
  {
   "cell_type": "markdown",
   "metadata": {},
   "source": [
    "# HW_9"
   ]
  },
  {
   "cell_type": "markdown",
   "metadata": {},
   "source": [
    "- ✅ Дизайн базы. Рекомендуется, например, такой: в базе данных три таблицы, где (1) таблица с вопросами анкеты; (2) таблица с полученными данными; (3) таблица с информацией об информанте (имя/возраст/город проживания/гендер/родной язык и т.п.); id таблиц (2) и (3) совпадают\n",
    "- ✅ Таблицы и их связи описаны через классы sqlalchemy\n",
    "- ✅ Данные сохраняются в базу и это делается через описанные классы\n",
    "- ✅ Добавить на страницу статистики приложения из дз8 \n",
    " - 1) какую-нибудь статистику по метаданным (например, сколько человек прошло опрос, какой максимальный, минимальный и средний возраст информантов)\n",
    " - 2) какую-нибудь статистику по вопросам анкеты (например, медиана рейтинга каждого стимульного предложения).\n",
    "- ⬜️Выложить приложение на pythonanywhere. Соответствующая ссылка должна быть в файле readme репозитория\n"
   ]
  },
  {
   "cell_type": "code",
   "execution_count": 92,
   "metadata": {},
   "outputs": [],
   "source": [
    "from flask_sqlalchemy import SQLAlchemy\n",
    "from flask import Flask, render_template, request\n",
    "import sqlite3\n",
    "\n",
    "import collections\n",
    "import numpy as np\n",
    "import matplotlib.pyplot as plt"
   ]
  },
  {
   "cell_type": "markdown",
   "metadata": {},
   "source": [
    "### 1. Создаю базу"
   ]
  },
  {
   "cell_type": "markdown",
   "metadata": {},
   "source": [
    "Дизайн базы: \n",
    "- (1) таблица с вопросами анкеты\n",
    "- (2) таблица с полученными данными\n",
    "- (3) таблица с информацией об информанте (имя/возраст/город проживания/гендер/родной язык и т.п.)\n",
    "- id таблиц (2) и (3) совпадают"
   ]
  },
  {
   "cell_type": "code",
   "execution_count": 93,
   "metadata": {},
   "outputs": [],
   "source": [
    "conn = sqlite3.connect('mansi_language.db')\n",
    "cur = conn.cursor()\n",
    "\n",
    "cur.execute(\"\"\"\n",
    "CREATE TABLE IF NOT EXISTS questions \n",
    "(queation_id int PRIMARY KEY, \n",
    "question text)\n",
    "\"\"\")\n",
    "\n",
    "cur.execute(\"\"\"\n",
    "CREATE TABLE IF NOT EXISTS answers \n",
    "(respondent_id INTEGER PRIMARY KEY AUTOINCREMENT, \n",
    "if_studied_mansi_at_school text,\n",
    "if_speak_mansi_at_home text,\n",
    "if_was_taught_in_mansi text)\n",
    "\"\"\")\n",
    "\n",
    "cur.execute(\"\"\"\n",
    "CREATE TABLE IF NOT EXISTS metadata \n",
    "(respondent_id INTEGER PRIMARY KEY AUTOINCREMENT, \n",
    "date_of_birth text,\n",
    "place_of_birth text,\n",
    "first_language text)\n",
    "\"\"\")\n",
    "\n",
    "conn.commit()\n",
    "conn.close()"
   ]
  },
  {
   "cell_type": "code",
   "execution_count": 94,
   "metadata": {},
   "outputs": [],
   "source": [
    "# Заполняю таблицу (1)\n",
    "conn = sqlite3.connect('mansi_language.db')\n",
    "cur = conn.cursor()\n",
    "qs = ['В каком году вы родились?', \n",
    "      'Где Вы родились (город, село и т. п.)?',\n",
    "      'Является ли мансийским Вашим родным (первым) языком?',\n",
    "      'Вы изучали мансийский язык в школе?',\n",
    "      'На каком языке Вы общаетесь дома?',\n",
    "      'На каком языке Вам преподавали учебные предметы?']\n",
    "\n",
    "\n",
    "for i in range(1, 7):\n",
    "    cur.execute(\"INSERT INTO questions VALUES (?,?)\",\n",
    "                [i, qs[i-1]]) \n",
    "    \n",
    "conn.commit()\n",
    "conn.close()"
   ]
  },
  {
   "cell_type": "markdown",
   "metadata": {},
   "source": [
    "Сначала создаем объект, который отвечает за интерфейс работы с базой"
   ]
  },
  {
   "cell_type": "code",
   "execution_count": 95,
   "metadata": {},
   "outputs": [],
   "source": [
    "db = SQLAlchemy()\n",
    "\n",
    "# создаем приложение\n",
    "app = Flask(__name__)\n",
    "\n",
    "# подключаем нашу базу sqlite:/// - это тип базы, потом просто имя файла, который лежит в той же папке\n",
    "app.config['SQLALCHEMY_DATABASE_URI'] = 'sqlite:///mansi_language.db'\n",
    "app.config['SQLALCHEMY_TRACK_MODIFICATIONS'] = False \n",
    "\n",
    "# указываем базе, какое наше приложение\n",
    "db.app = app\n",
    "db.init_app(app)"
   ]
  },
  {
   "cell_type": "code",
   "execution_count": 96,
   "metadata": {},
   "outputs": [],
   "source": [
    "# описываем таблицы\n",
    "\n",
    "class Questions(db.Model):\n",
    "\n",
    "    __tablename__ = \"questions\"\n",
    "    \n",
    "    q_id = db.Column('question_id', db.Integer, primary_key=True)\n",
    "    q = db.Column('question', db.Text)\n",
    "\n",
    "\n",
    "class Answers(db.Model):\n",
    "    __tablename__ = \"answers\"\n",
    "\n",
    "    respondent_id = db.Column('respondent_id', db.Integer, primary_key=True)\n",
    "    study_at_school = db.Column('if_studied_mansi_at_school', db.Text)\n",
    "    speak_home = db.Column('if_speak_mansi_at_home', db.Text)\n",
    "    was_taught_at_school = db.Column('if_was_taught_in_mansi', db.Text)\n",
    "    \n",
    "\n",
    "class Person(db.Model):\n",
    "    __tablename__ = \"metadata\"\n",
    "\n",
    "    respondent_id = db.Column('respondent_id', db.Integer, primary_key=True)\n",
    "    date_of_birth = db.Column('date_of_birth', db.Text)\n",
    "    place_of_birth = db.Column('place_of_birth', db.Text)\n",
    "    difirst_languageed = db.Column('first_language', db.Text)"
   ]
  },
  {
   "cell_type": "markdown",
   "metadata": {},
   "source": [
    "#### Код flask-приложения из HW_8.py"
   ]
  },
  {
   "cell_type": "code",
   "execution_count": null,
   "metadata": {},
   "outputs": [
    {
     "name": "stdout",
     "output_type": "stream",
     "text": [
      " * Serving Flask app \"__main__\" (lazy loading)\n",
      " * Environment: production\n",
      "\u001b[31m   WARNING: This is a development server. Do not use it in a production deployment.\u001b[0m\n",
      "\u001b[2m   Use a production WSGI server instead.\u001b[0m\n",
      " * Debug mode: off\n"
     ]
    },
    {
     "name": "stderr",
     "output_type": "stream",
     "text": [
      " * Running on http://127.0.0.1:5000/ (Press CTRL+C to quit)\n",
      "127.0.0.1 - - [10/Dec/2020 02:05:16] \"\u001b[37mGET / HTTP/1.1\u001b[0m\" 200 -\n",
      "127.0.0.1 - - [10/Dec/2020 02:05:19] \"\u001b[37mGET /questionnaire HTTP/1.1\u001b[0m\" 200 -\n",
      "127.0.0.1 - - [10/Dec/2020 02:05:26] \"\u001b[37mGET /statistics HTTP/1.1\u001b[0m\" 200 -\n",
      "127.0.0.1 - - [10/Dec/2020 02:05:31] \"\u001b[37mGET / HTTP/1.1\u001b[0m\" 200 -\n",
      "127.0.0.1 - - [10/Dec/2020 02:05:32] \"\u001b[37mGET /questionnaire HTTP/1.1\u001b[0m\" 200 -\n",
      "127.0.0.1 - - [10/Dec/2020 02:05:39] \"\u001b[37mGET / HTTP/1.1\u001b[0m\" 200 -\n",
      "127.0.0.1 - - [10/Dec/2020 02:05:40] \"\u001b[37mGET /questionnaire HTTP/1.1\u001b[0m\" 200 -\n",
      "127.0.0.1 - - [10/Dec/2020 02:05:45] \"\u001b[37mGET /process?birth=1990&place=f&native=yes&school=yes&home=mansi&classes=mansi HTTP/1.1\u001b[0m\" 200 -\n",
      "127.0.0.1 - - [10/Dec/2020 02:05:46] \"\u001b[33mGET /favicon.ico HTTP/1.1\u001b[0m\" 404 -\n"
     ]
    }
   ],
   "source": [
    "\n",
    "@app.route(\"/\")\n",
    "def instruction():\n",
    "    return render_template('main_page.html')\n",
    "\n",
    "\n",
    "@app.route(\"/questionnaire\")\n",
    "def quest():\n",
    "    return render_template('questionnaire.html')\n",
    "\n",
    "\n",
    "@app.route(\"/statistics\")\n",
    "def stat():\n",
    "    return render_template('statistics.html')\n",
    "\n",
    "\n",
    "@app.route('/questionnaire')\n",
    "def question_page():\n",
    "    questions = Questions.query.all()\n",
    "    return render_template(\n",
    "        'questionnaire.html',\n",
    "        questions=questions\n",
    "    )\n",
    "\n",
    "\n",
    "@app.route('/process', methods=['get'])\n",
    "def answer_process():\n",
    "    if not request.args:\n",
    "        return redirect(url_for('question_page'))\n",
    "\n",
    "    date_of_birth = request.args.get('birth')\n",
    "    place_of_birth = request.args.get('place')\n",
    "    difirst_languageed = request.args.get('native')\n",
    "    \n",
    "    # Профиль пользователя\n",
    "    user = Person(\n",
    "        date_of_birth=date_of_birth,\n",
    "        place_of_birth=place_of_birth,\n",
    "        difirst_languageed=difirst_languageed\n",
    "    )\n",
    "    db.session.add(user)\n",
    "    db.session.commit()\n",
    "    db.session.refresh(user)\n",
    "    \n",
    "    study_at_school = request.args.get('school')\n",
    "    speak_home = request.args.get('home')\n",
    "    was_taught_at_school = request.args.get('classes')\n",
    "    \n",
    "    answer = Answers(\n",
    "        study_at_school=study_at_school, \n",
    "        speak_home=speak_home, \n",
    "        was_taught_at_school=was_taught_at_school\n",
    "    )\n",
    "    db.session.add(answer)\n",
    "    db.session.commit()\n",
    "    db.session.refresh(user)\n",
    "    \n",
    "    return 'Ваш ответ принят! Спасибо за участие <3'\n",
    "    \n",
    "\n",
    "if __name__ == \"__main__\":\n",
    "    app.run()\n"
   ]
  },
  {
   "cell_type": "markdown",
   "metadata": {},
   "source": [
    "### 2. Добавляю на страницу статистику "
   ]
  },
  {
   "cell_type": "markdown",
   "metadata": {},
   "source": [
    "#### 2.1 Строю и сохраняю графики"
   ]
  },
  {
   "cell_type": "markdown",
   "metadata": {},
   "source": [
    "1. Cтатистика по метаданным: \"Топ-5 населенных пунктов, в которых родились респонденты\""
   ]
  },
  {
   "cell_type": "code",
   "execution_count": null,
   "metadata": {},
   "outputs": [],
   "source": [
    "con = sqlite3.connect('mansi_language.db')\n",
    "cur = con.cursor()\n",
    "\n",
    "get_metadata = \"\"\"\n",
    "SELECT *\n",
    "FROM metadata \n",
    "\"\"\"\n",
    "\n",
    "cur.execute(get_metadata)\n",
    "metadata = cur.fetchall()\n",
    "\n",
    "# Строю и сохраняю график\n",
    "all_cities = [i[2] for i in metadata]\n",
    "freq_cities = collections.Counter(all_cities).most_common(5)\n",
    "\n",
    "tag = [elem[0] for elem in freq_cities]\n",
    "freq = [elem[1] for elem in freq_cities]\n",
    "\n",
    "fig, ax = plt.subplots()\n",
    "\n",
    "ax.bar(tag, freq, color='lightblue')\n",
    "\n",
    "plt.title('Топ-5 населенных пунктов, в которых родились респонденты',\n",
    "         fontsize=15,\n",
    "         color='white',\n",
    "         backgroundcolor='mediumseagreen',\n",
    "         pad=20)\n",
    "plt.xlabel('населенный пункт')\n",
    "plt.ylabel('количество респондентов')\n",
    "ax.set_facecolor('white')\n",
    "fig.set_facecolor('white')\n",
    "fig.set_figwidth(8)    \n",
    "fig.set_figheight(5)    \n",
    "fig.savefig('cities_graph.png')"
   ]
  },
  {
   "cell_type": "markdown",
   "metadata": {},
   "source": [
    "2. Статистика по вопросам анкеты: \"На каких языках – русском или мансийском – респонденты говорят дома?\""
   ]
  },
  {
   "cell_type": "code",
   "execution_count": null,
   "metadata": {},
   "outputs": [],
   "source": [
    "con = sqlite3.connect('mansi_language.db')\n",
    "cur = con.cursor()\n",
    "\n",
    "get_answers = \"\"\"\n",
    "SELECT *\n",
    "FROM answers \n",
    "\"\"\"\n",
    "\n",
    "cur.execute(get_answers)\n",
    "answers = cur.fetchall()\n",
    "\n",
    "# Строю и сохраняю график\n",
    "all_answers = [i[2] for i in answers]\n",
    "freq_lang = collections.Counter(all_answers).items()\n",
    "lang = [elem[0] for elem in freq_lang]\n",
    "freq = [elem[1] for elem in freq_lang]\n",
    "\n",
    "fig2, ax1 = plt.subplots()\n",
    "ax1.pie(freq, autopct='%1.1f%%', labels=lang, \n",
    "        shadow=True, startangle=70)\n",
    "plt.title('На каких языках, русском или мансийском, респонденты говорят дома?',\n",
    "         fontsize=10,\n",
    "         color='white',\n",
    "         backgroundcolor='mediumseagreen')\n",
    "ax1.axis('equal')\n",
    "fig2.savefig('languages_graph.png')"
   ]
  }
 ],
 "metadata": {
  "kernelspec": {
   "display_name": "Python 3",
   "language": "python",
   "name": "python3"
  },
  "language_info": {
   "codemirror_mode": {
    "name": "ipython",
    "version": 3
   },
   "file_extension": ".py",
   "mimetype": "text/x-python",
   "name": "python",
   "nbconvert_exporter": "python",
   "pygments_lexer": "ipython3",
   "version": "3.8.3"
  }
 },
 "nbformat": 4,
 "nbformat_minor": 4
}
